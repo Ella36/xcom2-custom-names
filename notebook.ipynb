{
 "cells": [
  {
   "cell_type": "code",
   "execution_count": 1,
   "metadata": {},
   "outputs": [],
   "source": [
    "from pathlib import Path\n",
    "import re\n",
    "import argparse\n",
    "\n",
    "# Ugly hack to argparse works inside notebook\n",
    "import sys\n",
    "sys.argv = ['']\n",
    "\n",
    "parser = argparse.ArgumentParser()\n",
    "parser.add_argument(\n",
    "    \"--input\", default=\"./data/Toms500.bin\", type=str, help=\"Path to input .bin file\"\n",
    ")\n",
    "parser.add_argument(\n",
    "    \"--output\",\n",
    "    default=\"./Toms.bin\",\n",
    "    type=str,\n",
    "    help=\"Path to output .bin file. Must be Toms.bin or Dev.bin to work properly\",\n",
    ")\n",
    "parser.add_argument(\n",
    "    \"--names\",\n",
    "    default=\"./names.txt\",\n",
    "    type=str,\n",
    "    help=\"Path to names.txt file. Names seperated by newlines\",\n",
    ")\n",
    "args = parser.parse_args()\n",
    "\n",
    "PATH_IN = args.input\n",
    "PATH_OUT = args.output\n",
    "PATH_NAMES = args.names\n",
    "\n",
    "\n",
    "MAX_SIZE: int = 15  # XCOM2 game limitation\n",
    "BYTES_TO_MODIFY: bytes = ( # See readme to know this magic string means\n",
    "    b\"\\x14\\x00\\x00\\x00\\x00\\x00\\x00\\x00\\x10\\x00\\x00\\x00\\x74\\x6F\\x6D\\x61\\x78\\x6C\\x65\\x6E\\x67\\x74\\x68\\x6E\\x61\\x6D\\x65\"\n",
    ")\n",
    "VALUE1 = b\"\\x14\"\n",
    "VALUE2 = b\"\\x10\""
   ]
  },
  {
   "cell_type": "code",
   "execution_count": 2,
   "metadata": {},
   "outputs": [
    {
     "name": "stdout",
     "output_type": "stream",
     "text": [
      "Read 5 names from names.txt\n"
     ]
    }
   ],
   "source": [
    "# read in names from a text file\n",
    "names_path = Path(PATH_NAMES)\n",
    "with open(names_path, \"r\") as f:\n",
    "    names: list[str] = []\n",
    "    for line in f:\n",
    "        name = line.strip()\n",
    "        if name:\n",
    "            names.append(name)\n",
    "\n",
    "amount_of_names: int = len(names)\n",
    "print(f\"Read {amount_of_names} names from names.txt\")\n",
    "\n",
    "# Validate names are not too short or long\n",
    "invalid_names = []\n",
    "special_character_names = []\n",
    "\n",
    "regex = r\"[\\u00C0-\\u017F]\"\n",
    "\n",
    "# Warning for invalid names\n",
    "for name in names:\n",
    "    if not (0 < len(name) and len(name) <= MAX_SIZE):\n",
    "        invalid_names.append(name)\n",
    "    if re.search(regex, name):\n",
    "        special_character_names.append(name)\n",
    "\n",
    "# Warning for characters with accent\n",
    "if special_character_names:\n",
    "    print(f\"Warning: {len(special_character_names)} potentially breaking name(s):\")\n",
    "    print('\\n'.join(special_character_names))\n",
    "    print(f\"Names that have special characters may break:\\n\\t{regex}\")\n",
    "\n",
    "# Print invalid names\n",
    "if invalid_names:\n",
    "    print(f\"Warning: {len(invalid_names)} invalid name(s):\")\n",
    "    print('\\n'.join(invalid_names))\n",
    "    raise ValueError( f\"All names must be between 1 and {MAX_SIZE} characters long\")"
   ]
  },
  {
   "cell_type": "code",
   "execution_count": 3,
   "metadata": {},
   "outputs": [],
   "source": [
    "soldier_pool_bin = Path(PATH_IN)\n",
    "with open(soldier_pool_bin, \"rb\") as f:\n",
    "    soldier_pool: bytes = f.read()"
   ]
  },
  {
   "cell_type": "code",
   "execution_count": 4,
   "metadata": {},
   "outputs": [
    {
     "name": "stdout",
     "output_type": "stream",
     "text": [
      "Modifying 5/500 soldiers\n"
     ]
    }
   ],
   "source": [
    "# Cut out the string to modify\n",
    "bytes_split: list = soldier_pool.split(BYTES_TO_MODIFY, amount_of_names+1)[:amount_of_names+1]\n",
    "amount_of_soldiers_to_modify_in_pool = len(bytes_split) - 1\n",
    "amount_of_soldiers_in_pool = len(soldier_pool.split(BYTES_TO_MODIFY)) - 1\n",
    "\n",
    "# The last element is incorrectly ended. We should end at the BYTES_TERMINATOR\n",
    "BYTES_TERMINATOR = b\"\\x61\\x63\\x6B\\x67\\x72\\x6F\\x75\\x6E\\x64\\x54\\x65\\x78\\x74\\x00\\x00\\x00\\x00\\x00\\x0C\\x00\\x00\\x00\\x53\\x74\\x72\\x50\\x72\\x6F\\x70\\x65\\x72\\x74\\x79\\x00\\x00\\x00\\x00\\x00\\x04\\x00\\x00\\x00\\x00\\x00\\x00\\x00\\x00\\x00\\x00\\x00\\x05\\x00\\x00\\x00\\x4E\\x6F\\x6E\\x65\\x00\\x00\\x00\\x00\\x00\"\n",
    "bytes_last: bytes = bytes_split[-1]\n",
    "bytes_last: bytes = bytes_last.split(BYTES_TERMINATOR)[0] + BYTES_TERMINATOR\n",
    "bytes_split[-1] = bytes_last\n",
    "\n",
    "# TODO: Update prints\n",
    "if amount_of_names > amount_of_soldiers_to_modify_in_pool:\n",
    "    print(\n",
    "        f\"Not enough soldiers in the pool ({amount_of_soldiers_in_pool}) to modify ({amount_of_names} names! Pick a bigger size!\"\n",
    "    )\n",
    "else:\n",
    "    print(\n",
    "        f\"Modifying {amount_of_soldiers_to_modify_in_pool}/{amount_of_soldiers_in_pool} soldiers\"\n",
    "    )"
   ]
  },
  {
   "cell_type": "code",
   "execution_count": 5,
   "metadata": {},
   "outputs": [],
   "source": [
    "# Substract character difference from value\n",
    "def subtract_from_value(value: bytes, amount: int) -> bytes:\n",
    "    value: int = int.from_bytes(value, byteorder=\"little\")\n",
    "    value: int = value - amount\n",
    "    value: bytes = value.to_bytes(\n",
    "        length=1,\n",
    "        byteorder=\"little\",\n",
    "    )\n",
    "    return value\n",
    "\n",
    "# Construct new bytestring\n",
    "new_byte_pieces = []\n",
    "for name in names:\n",
    "    amount_of_characters: int = len(name)\n",
    "    assert amount_of_characters <= MAX_SIZE\n",
    "    new_name: bytes = name.encode()\n",
    "\n",
    "    # Adjust our values\n",
    "    character_difference: int = MAX_SIZE - amount_of_characters\n",
    "    value1: bytes = subtract_from_value(VALUE1, character_difference)\n",
    "    value2: bytes = subtract_from_value(VALUE2, character_difference)\n",
    "\n",
    "    byte_string: bytes = (\n",
    "        value1 + b\"\\x00\\x00\\x00\\x00\\x00\\x00\\x00\" + value2 + b\"\\x00\\x00\\x00\" + new_name\n",
    "    )\n",
    "\n",
    "    new_byte_pieces.append(byte_string)"
   ]
  },
  {
   "cell_type": "code",
   "execution_count": 6,
   "metadata": {},
   "outputs": [],
   "source": [
    "# Construct our pool of soldiers\n",
    "merged_string: bytes = b\"\"\n",
    "\n",
    "for i in range(len(bytes_split)):\n",
    "    if i == len(bytes_split) - 1:\n",
    "        merged_string += bytes_split[i]\n",
    "    else:\n",
    "        merged_string += bytes_split[i] + new_byte_pieces[i]\n"
   ]
  },
  {
   "cell_type": "code",
   "execution_count": 7,
   "metadata": {},
   "outputs": [],
   "source": [
    "# If we return less values than the .bin holds it will copypaste the last soldier\n",
    "# Patch amount of soldiers value\n",
    "# For  500: ['\\xF4, '\\x01']\n",
    "# Value located at 0x38 -> 56 LSB F4\n",
    "# Value located at 0x39 -> 57 MSB 01\n",
    "amount_hex: bytes = amount_of_names.to_bytes(length=2, byteorder=\"little\")\n",
    "# Value located at 0xA2 -> 162 LSB F4\n",
    "# Value located at 0xA3 -> 163 MSB 01\n",
    "patched_amount_of_soldiers: bytes = merged_string[:56] + amount_hex + merged_string[58:162] + amount_hex + merged_string[164:]\n",
    "merged_string = patched_amount_of_soldiers"
   ]
  },
  {
   "cell_type": "code",
   "execution_count": 8,
   "metadata": {},
   "outputs": [
    {
     "name": "stdout",
     "output_type": "stream",
     "text": [
      "Wrote modified .bin to ./Toms.bin\n"
     ]
    }
   ],
   "source": [
    "soldier_pool_bin_output = Path(PATH_OUT)\n",
    "with open(soldier_pool_bin_output, \"wb\") as f:\n",
    "    soldier_pool: bytes = f.write(merged_string)\n",
    "print(f\"Wrote modified .bin to {PATH_OUT}\")"
   ]
  },
  {
   "cell_type": "code",
   "execution_count": null,
   "metadata": {},
   "outputs": [],
   "source": []
  },
  {
   "cell_type": "code",
   "execution_count": null,
   "metadata": {},
   "outputs": [],
   "source": []
  }
 ],
 "metadata": {
  "kernelspec": {
   "display_name": "Python 3",
   "language": "python",
   "name": "python3"
  },
  "language_info": {
   "codemirror_mode": {
    "name": "ipython",
    "version": 3
   },
   "file_extension": ".py",
   "mimetype": "text/x-python",
   "name": "python",
   "nbconvert_exporter": "python",
   "pygments_lexer": "ipython3",
   "version": "3.11.8"
  }
 },
 "nbformat": 4,
 "nbformat_minor": 2
}
