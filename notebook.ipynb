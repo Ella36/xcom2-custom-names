{
 "cells": [
  {
   "cell_type": "code",
   "execution_count": 17,
   "metadata": {},
   "outputs": [],
   "source": [
    "from pathlib import Path\n",
    "import re\n",
    "import argparse\n",
    "from typing import NamedTuple\n",
    "\n",
    "# Ugly hack to argparse works inside notebook\n",
    "isJupyterNotebook = hasattr(__builtins__,'__IPYTHON__')\n",
    "if isJupyterNotebook:\n",
    "    import sys\n",
    "    sys.argv = ['']\n",
    "\n",
    "parser = argparse.ArgumentParser()\n",
    "parser.add_argument(\n",
    "    \"--input\", default=\"./data/Toms.bin\", type=str, help=\"Path to input .bin file\"\n",
    ")\n",
    "parser.add_argument(\n",
    "    \"--output\",\n",
    "    default=\"./Toms.bin\",\n",
    "    type=str,\n",
    "    help=\"Path to output .bin file. Must be Toms.bin or Dev.bin to work properly\",\n",
    ")\n",
    "parser.add_argument(\n",
    "    \"--names\",\n",
    "    default=\"./names.txt\",\n",
    "    type=str,\n",
    "    help=\"Path to names.txt file. Names seperated by newlines\",\n",
    ")\n",
    "\n",
    "args = parser.parse_args()\n",
    "\n",
    "PATH_IN = args.input\n",
    "PATH_OUT = args.output\n",
    "PATH_NAMES = args.names\n",
    "\n",
    "MAGIC_STRING: bytes =\\\n",
    "b\"\\x0C\\x00\\x00\\x00\\x53\\x74\\x72\\x50\\x72\\x6F\\x70\\x65\\x72\\x74\\x79\\x00\\x00\\x00\\x00\\x00\"\n",
    "+b\"\\x06\\x00\\x00\\x00\\x00\\x00\\x00\\x00\\x02\\x00\\x00\\x00\\x2E\" # Magic string for first name\n",
    "+b\"\\x00\\x0C\\x00\\x00\\x00\\x73\\x74\\x72\\x4C\\x61\\x73\\x74\\x4E\\x61\\x6D\\x65\\x00\\x00\\x00\\x00\\x00\\x0C\\x00\\x00\\x00\\x53\\x74\\x72\\x50\\x72\\x6F\\x70\\x65\\x72\\x74\\x79\\x00\\x00\\x00\\x00\\x00\"\n",
    "+b\"\\x14\\x00\\x00\\x00\\x00\\x00\\x00\\x00\\x10\\x00\\x00\\x00\\x74\\x6F\\x6D\\x61\\x78\\x6C\\x65\\x6E\\x67\\x74\\x68\\x6E\\x61\\x6D\\x65\" # Magic string for last name\n",
    "\n",
    "LAST_NAME_MAX_LENGTH: int = 15  # XCOM2 game limitation\n",
    "LAST_NAME_MAGIC_STRING: bytes = ( # See readme to know this magic string means\n",
    "    b\"\\x14\\x00\\x00\\x00\\x00\\x00\\x00\\x00\\x10\\x00\\x00\\x00\\x74\\x6F\\x6D\\x61\\x78\\x6C\\x65\\x6E\\x67\\x74\\x68\\x6E\\x61\\x6D\\x65\"\n",
    ")\n",
    "VALUE1 = b\"\\x14\"\n",
    "VALUE2 = b\"\\x10\"\n",
    "\n",
    "FIRST_NAME_MAX_LENGTH: int = 11 # XCOM2 game limitation\n",
    "FIRST_NAME_MAGIC_STRING: bytes = (\n",
    "    b\"\\x06\\x00\\x00\\x00\\x00\\x00\\x00\\x00\\x02\\x00\\x00\\x00\\x2E\"\n",
    ")\n",
    "\n",
    "NAME_DELIM: str = \"@@@\" # seperates firstname and lastname"
   ]
  },
  {
   "cell_type": "code",
   "execution_count": 18,
   "metadata": {},
   "outputs": [],
   "source": [
    "soldier_pool_bin = Path(PATH_IN)\n",
    "with open(soldier_pool_bin, \"rb\") as f:\n",
    "    soldier_pool: bytes = f.read()"
   ]
  },
  {
   "cell_type": "code",
   "execution_count": 20,
   "metadata": {},
   "outputs": [
    {
     "name": "stdout",
     "output_type": "stream",
     "text": [
      "Read 22 names from names.txt\n"
     ]
    }
   ],
   "source": [
    "# read in names from a text file\n",
    "names_path = Path(PATH_NAMES)\n",
    "\n",
    "class Name(NamedTuple):\n",
    "    first_name: str\n",
    "    last_name: str\n",
    "    def __repr__(self):\n",
    "        return f\"Name(first_name={self.first_name}, last_name={self.last_name}\"\n",
    "\n",
    "names: list[Name] = []\n",
    "\n",
    "with open(names_path, \"r\") as f:\n",
    "    for line in f:\n",
    "        name_stripped = line.strip()\n",
    "        if name_stripped:\n",
    "            # Check if first name, last name\n",
    "            if name_stripped.find(NAME_DELIM) == -1: # last name only\n",
    "                first_name = '.'\n",
    "                last_name = name_stripped\n",
    "            elif name_stripped.find(NAME_DELIM) == 0: # first name only\n",
    "                first_name = name_stripped\n",
    "                last_name = '.'\n",
    "            else: # Name: firstname@lastname\n",
    "                first_name, last_name = name_stripped.split(NAME_DELIM, maxsplit=1)\n",
    "            name: Name = Name(first_name, last_name)\n",
    "            names.append(name)\n",
    "\n",
    "amount_of_names: int = len(names)\n",
    "print(f\"Read {amount_of_names} names from names.txt\")\n",
    "\n",
    "# Validate names\n",
    "names_with_invalid_length = []\n",
    "names_with_special_characters = []\n",
    "\n",
    "regex_special_characters = r\"[\\u00C0-\\u017F]\"\n",
    "has_special_characters = lambda name: re.search(regex_special_characters, name)\n",
    "\n",
    "for name in names:\n",
    "    isValidFirstName: bool = 0 < len(name.first_name) and len(name.first_name) <= FIRST_NAME_MAX_LENGTH\n",
    "    isValidLastName: bool = 0 < len(name.last_name) and len(name.last_name) <= LAST_NAME_MAX_LENGTH\n",
    "    if not isValidFirstName or not isValidLastName:\n",
    "        names_with_invalid_length.append(name)\n",
    "    if has_special_characters(first_name) or has_special_characters(last_name):\n",
    "        names_with_special_characters.append(name)\n",
    "\n",
    "# Warning for characters with accent\n",
    "if names_with_special_characters:\n",
    "    print(f\"Warning: {len(names_with_special_characters)} potentially breaking name(s):\")\n",
    "    for n in names_with_special_characters:\n",
    "        print(str(n))\n",
    "    print(f\"Names that have special characters may show incorrectly in game:\\n\\t{regex_special_characters}\")\n",
    "\n",
    "# Error names with invalid length\n",
    "if names_with_invalid_length:\n",
    "    print(f\"Warning: {len(names_with_invalid_length)} invalid name(s):\")\n",
    "    for n in names_with_invalid_length:\n",
    "        print(str(n))\n",
    "    raise ValueError( f\"All names must be between 1 and {LAST_NAME_MAX_LENGTH} characters long\")"
   ]
  },
  {
   "cell_type": "code",
   "execution_count": 12,
   "metadata": {},
   "outputs": [
    {
     "name": "stdout",
     "output_type": "stream",
     "text": [
      "Modifying 22/500 soldiers\n"
     ]
    }
   ],
   "source": [
    "## Modify last name\n",
    "# Cut out the string to modify\n",
    "bytes_split: list = soldier_pool.split(LAST_NAME_MAGIC_STRING, amount_of_names+1)[:amount_of_names+1]\n",
    "amount_of_soldiers_to_modify_in_pool: int = len(bytes_split) - 1\n",
    "amount_of_soldiers_in_pool: int = len(soldier_pool.split(LAST_NAME_MAGIC_STRING)) - 1\n",
    "\n",
    "# The last element is incorrectly ended. We should end at the BYTES_TERMINATOR\n",
    "BYTES_TERMINATOR = b\"\\x61\\x63\\x6B\\x67\\x72\\x6F\\x75\\x6E\\x64\\x54\\x65\\x78\\x74\\x00\\x00\\x00\\x00\\x00\\x0C\\x00\\x00\\x00\\x53\\x74\\x72\\x50\\x72\\x6F\\x70\\x65\\x72\\x74\\x79\\x00\\x00\\x00\\x00\\x00\\x04\\x00\\x00\\x00\\x00\\x00\\x00\\x00\\x00\\x00\\x00\\x00\\x05\\x00\\x00\\x00\\x4E\\x6F\\x6E\\x65\\x00\\x00\\x00\\x00\\x00\"\n",
    "bytes_last: bytes = bytes_split[-1]\n",
    "bytes_last: bytes = bytes_last.split(BYTES_TERMINATOR)[0] + BYTES_TERMINATOR\n",
    "bytes_split[-1] = bytes_last\n",
    "\n",
    "if amount_of_names > amount_of_soldiers_to_modify_in_pool:\n",
    "    print(\n",
    "        f\"Not enough soldiers in the pool ({amount_of_soldiers_in_pool}) to modify ({amount_of_names} names! \"\n",
    "    )\n",
    "else:\n",
    "    print(\n",
    "        f\"Modifying {amount_of_soldiers_to_modify_in_pool}/{amount_of_soldiers_in_pool} soldiers\"\n",
    "    )"
   ]
  },
  {
   "cell_type": "code",
   "execution_count": 13,
   "metadata": {},
   "outputs": [],
   "source": [
    "# Substract character difference from value\n",
    "def subtract_from_value(value: bytes, amount: int) -> bytes:\n",
    "    value: int = int.from_bytes(value, byteorder=\"little\")\n",
    "    value: int = value - amount\n",
    "    value: bytes = value.to_bytes(\n",
    "        length=1,\n",
    "        byteorder=\"little\",\n",
    "    )\n",
    "    return value\n",
    "\n",
    "# Construct new bytestring\n",
    "new_byte_pieces: list[bytes] = []\n",
    "for name in names:\n",
    "    amount_of_characters: int = len(name)\n",
    "    assert amount_of_characters <= LAST_NAME_MAX_LENGTH\n",
    "    new_name: bytes = name.encode()\n",
    "\n",
    "    # Adjust our values\n",
    "    character_difference: int = LAST_NAME_MAX_LENGTH - amount_of_characters\n",
    "    value1: bytes = subtract_from_value(VALUE1, character_difference)\n",
    "    value2: bytes = subtract_from_value(VALUE2, character_difference)\n",
    "\n",
    "    byte_string: bytes = (\n",
    "        value1 + b\"\\x00\\x00\\x00\\x00\\x00\\x00\\x00\" + value2 + b\"\\x00\\x00\\x00\" + new_name\n",
    "    )\n",
    "\n",
    "    new_byte_pieces.append(byte_string)"
   ]
  },
  {
   "cell_type": "code",
   "execution_count": 14,
   "metadata": {},
   "outputs": [],
   "source": [
    "# Construct our pool of soldiers\n",
    "merged_string: bytes = b\"\"\n",
    "\n",
    "for i in range(len(bytes_split)):\n",
    "    if i == len(bytes_split) - 1:\n",
    "        merged_string += bytes_split[i]\n",
    "    else:\n",
    "        merged_string += bytes_split[i] + new_byte_pieces[i]\n"
   ]
  },
  {
   "cell_type": "code",
   "execution_count": 15,
   "metadata": {},
   "outputs": [],
   "source": [
    "# If we return less values than the .bin holds it will copypaste the last soldier\n",
    "# Patch amount of soldiers value\n",
    "# This number occurs twice:\n",
    "# Once before name.bin\n",
    "# Value located at 0x38 -> 56 LSB F4\n",
    "# Value located at 0x39 -> 57 MSB 01\n",
    "amount_hex: bytes = amount_of_names.to_bytes(length=2, byteorder=\"little\")\n",
    "# Once after name.bin. This is why Devs.bin and Toms.bin are 4 characters long\n",
    "# Value located at 0xA2 -> 162 LSB F4\n",
    "# Value located at 0xA3 -> 163 MSB 01\n",
    "patched_amount_of_soldiers: bytes = merged_string[:56] + amount_hex + merged_string[58:160] + amount_hex + merged_string[162:]\n",
    "\n",
    "merged_string = patched_amount_of_soldiers"
   ]
  },
  {
   "cell_type": "code",
   "execution_count": 16,
   "metadata": {},
   "outputs": [
    {
     "name": "stdout",
     "output_type": "stream",
     "text": [
      "Wrote modified .bin to ./Toms.bin\n"
     ]
    }
   ],
   "source": [
    "soldier_pool_bin_output = Path(PATH_OUT)\n",
    "with open(soldier_pool_bin_output, \"wb\") as f:\n",
    "    soldier_pool: bytes = f.write(merged_string)\n",
    "print(f\"Wrote modified .bin to {PATH_OUT}\")"
   ]
  }
 ],
 "metadata": {
  "kernelspec": {
   "display_name": "Python 3",
   "language": "python",
   "name": "python3"
  },
  "language_info": {
   "codemirror_mode": {
    "name": "ipython",
    "version": 3
   },
   "file_extension": ".py",
   "mimetype": "text/x-python",
   "name": "python",
   "nbconvert_exporter": "python",
   "pygments_lexer": "ipython3",
   "version": "3.11.8"
  }
 },
 "nbformat": 4,
 "nbformat_minor": 2
}
